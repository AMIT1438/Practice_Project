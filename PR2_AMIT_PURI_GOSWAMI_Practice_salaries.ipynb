{
 "cells": [
  {
   "cell_type": "code",
   "execution_count": 1,
   "id": "a038bc81",
   "metadata": {},
   "outputs": [],
   "source": [
    "#importing or including important libraries\n",
    "import pandas as pd\n",
    "import numpy as np"
   ]
  },
  {
   "cell_type": "code",
   "execution_count": 2,
   "id": "bf5ca7d2",
   "metadata": {},
   "outputs": [
    {
     "data": {
      "text/html": [
       "<div>\n",
       "<style scoped>\n",
       "    .dataframe tbody tr th:only-of-type {\n",
       "        vertical-align: middle;\n",
       "    }\n",
       "\n",
       "    .dataframe tbody tr th {\n",
       "        vertical-align: top;\n",
       "    }\n",
       "\n",
       "    .dataframe thead th {\n",
       "        text-align: right;\n",
       "    }\n",
       "</style>\n",
       "<table border=\"1\" class=\"dataframe\">\n",
       "  <thead>\n",
       "    <tr style=\"text-align: right;\">\n",
       "      <th></th>\n",
       "      <th>rank</th>\n",
       "      <th>discipline</th>\n",
       "      <th>yrs.since.phd</th>\n",
       "      <th>yrs.service</th>\n",
       "      <th>sex</th>\n",
       "      <th>salary</th>\n",
       "    </tr>\n",
       "  </thead>\n",
       "  <tbody>\n",
       "    <tr>\n",
       "      <th>0</th>\n",
       "      <td>Prof</td>\n",
       "      <td>B</td>\n",
       "      <td>19</td>\n",
       "      <td>18</td>\n",
       "      <td>Male</td>\n",
       "      <td>139750</td>\n",
       "    </tr>\n",
       "    <tr>\n",
       "      <th>1</th>\n",
       "      <td>Prof</td>\n",
       "      <td>B</td>\n",
       "      <td>20</td>\n",
       "      <td>16</td>\n",
       "      <td>Male</td>\n",
       "      <td>173200</td>\n",
       "    </tr>\n",
       "    <tr>\n",
       "      <th>2</th>\n",
       "      <td>AsstProf</td>\n",
       "      <td>B</td>\n",
       "      <td>4</td>\n",
       "      <td>3</td>\n",
       "      <td>Male</td>\n",
       "      <td>79750</td>\n",
       "    </tr>\n",
       "    <tr>\n",
       "      <th>3</th>\n",
       "      <td>Prof</td>\n",
       "      <td>B</td>\n",
       "      <td>45</td>\n",
       "      <td>39</td>\n",
       "      <td>Male</td>\n",
       "      <td>115000</td>\n",
       "    </tr>\n",
       "    <tr>\n",
       "      <th>4</th>\n",
       "      <td>Prof</td>\n",
       "      <td>B</td>\n",
       "      <td>40</td>\n",
       "      <td>41</td>\n",
       "      <td>Male</td>\n",
       "      <td>141500</td>\n",
       "    </tr>\n",
       "    <tr>\n",
       "      <th>...</th>\n",
       "      <td>...</td>\n",
       "      <td>...</td>\n",
       "      <td>...</td>\n",
       "      <td>...</td>\n",
       "      <td>...</td>\n",
       "      <td>...</td>\n",
       "    </tr>\n",
       "    <tr>\n",
       "      <th>392</th>\n",
       "      <td>Prof</td>\n",
       "      <td>A</td>\n",
       "      <td>33</td>\n",
       "      <td>30</td>\n",
       "      <td>Male</td>\n",
       "      <td>103106</td>\n",
       "    </tr>\n",
       "    <tr>\n",
       "      <th>393</th>\n",
       "      <td>Prof</td>\n",
       "      <td>A</td>\n",
       "      <td>31</td>\n",
       "      <td>19</td>\n",
       "      <td>Male</td>\n",
       "      <td>150564</td>\n",
       "    </tr>\n",
       "    <tr>\n",
       "      <th>394</th>\n",
       "      <td>Prof</td>\n",
       "      <td>A</td>\n",
       "      <td>42</td>\n",
       "      <td>25</td>\n",
       "      <td>Male</td>\n",
       "      <td>101738</td>\n",
       "    </tr>\n",
       "    <tr>\n",
       "      <th>395</th>\n",
       "      <td>Prof</td>\n",
       "      <td>A</td>\n",
       "      <td>25</td>\n",
       "      <td>15</td>\n",
       "      <td>Male</td>\n",
       "      <td>95329</td>\n",
       "    </tr>\n",
       "    <tr>\n",
       "      <th>396</th>\n",
       "      <td>AsstProf</td>\n",
       "      <td>A</td>\n",
       "      <td>8</td>\n",
       "      <td>4</td>\n",
       "      <td>Male</td>\n",
       "      <td>81035</td>\n",
       "    </tr>\n",
       "  </tbody>\n",
       "</table>\n",
       "<p>397 rows × 6 columns</p>\n",
       "</div>"
      ],
      "text/plain": [
       "         rank discipline  yrs.since.phd  yrs.service   sex  salary\n",
       "0        Prof          B             19           18  Male  139750\n",
       "1        Prof          B             20           16  Male  173200\n",
       "2    AsstProf          B              4            3  Male   79750\n",
       "3        Prof          B             45           39  Male  115000\n",
       "4        Prof          B             40           41  Male  141500\n",
       "..        ...        ...            ...          ...   ...     ...\n",
       "392      Prof          A             33           30  Male  103106\n",
       "393      Prof          A             31           19  Male  150564\n",
       "394      Prof          A             42           25  Male  101738\n",
       "395      Prof          A             25           15  Male   95329\n",
       "396  AsstProf          A              8            4  Male   81035\n",
       "\n",
       "[397 rows x 6 columns]"
      ]
     },
     "execution_count": 2,
     "metadata": {},
     "output_type": "execute_result"
    }
   ],
   "source": [
    "#reading the csv file in a data set\n",
    "ds = pd.read_csv('Salaries.csv')\n",
    "\n",
    "#storing the data set in a data frame\n",
    "df = pd.DataFrame(data=ds)\n",
    "\n",
    "#displaying the data frame\n",
    "df"
   ]
  },
  {
   "cell_type": "code",
   "execution_count": 3,
   "id": "b7f19fc2",
   "metadata": {},
   "outputs": [
    {
     "data": {
      "text/plain": [
       "pandas.core.frame.DataFrame"
      ]
     },
     "execution_count": 3,
     "metadata": {},
     "output_type": "execute_result"
    }
   ],
   "source": [
    "#printing the the type of data frame\n",
    "type(df)"
   ]
  },
  {
   "cell_type": "code",
   "execution_count": 4,
   "id": "d98328b1",
   "metadata": {},
   "outputs": [
    {
     "data": {
      "text/plain": [
       "Index(['rank', 'discipline', 'yrs.since.phd', 'yrs.service', 'sex', 'salary'], dtype='object')"
      ]
     },
     "execution_count": 4,
     "metadata": {},
     "output_type": "execute_result"
    }
   ],
   "source": [
    "#printing the columns available in data frame\n",
    "df.columns"
   ]
  },
  {
   "cell_type": "code",
   "execution_count": 5,
   "id": "977aebfa",
   "metadata": {},
   "outputs": [
    {
     "data": {
      "text/plain": [
       "pandas.core.indexes.base.Index"
      ]
     },
     "execution_count": 5,
     "metadata": {},
     "output_type": "execute_result"
    }
   ],
   "source": [
    "#displaying the type of data frame columns\n",
    "type(df.columns)"
   ]
  },
  {
   "cell_type": "code",
   "execution_count": 6,
   "id": "96162101",
   "metadata": {},
   "outputs": [
    {
     "data": {
      "text/html": [
       "<div>\n",
       "<style scoped>\n",
       "    .dataframe tbody tr th:only-of-type {\n",
       "        vertical-align: middle;\n",
       "    }\n",
       "\n",
       "    .dataframe tbody tr th {\n",
       "        vertical-align: top;\n",
       "    }\n",
       "\n",
       "    .dataframe thead th {\n",
       "        text-align: right;\n",
       "    }\n",
       "</style>\n",
       "<table border=\"1\" class=\"dataframe\">\n",
       "  <thead>\n",
       "    <tr style=\"text-align: right;\">\n",
       "      <th></th>\n",
       "      <th>rank</th>\n",
       "      <th>discipline</th>\n",
       "      <th>yrs.since.phd</th>\n",
       "      <th>yrs.service</th>\n",
       "      <th>sex</th>\n",
       "      <th>salary</th>\n",
       "    </tr>\n",
       "  </thead>\n",
       "  <tbody>\n",
       "    <tr>\n",
       "      <th>0</th>\n",
       "      <td>Prof</td>\n",
       "      <td>B</td>\n",
       "      <td>19</td>\n",
       "      <td>18</td>\n",
       "      <td>Male</td>\n",
       "      <td>139750</td>\n",
       "    </tr>\n",
       "    <tr>\n",
       "      <th>1</th>\n",
       "      <td>Prof</td>\n",
       "      <td>B</td>\n",
       "      <td>20</td>\n",
       "      <td>16</td>\n",
       "      <td>Male</td>\n",
       "      <td>173200</td>\n",
       "    </tr>\n",
       "    <tr>\n",
       "      <th>2</th>\n",
       "      <td>AsstProf</td>\n",
       "      <td>B</td>\n",
       "      <td>4</td>\n",
       "      <td>3</td>\n",
       "      <td>Male</td>\n",
       "      <td>79750</td>\n",
       "    </tr>\n",
       "    <tr>\n",
       "      <th>3</th>\n",
       "      <td>Prof</td>\n",
       "      <td>B</td>\n",
       "      <td>45</td>\n",
       "      <td>39</td>\n",
       "      <td>Male</td>\n",
       "      <td>115000</td>\n",
       "    </tr>\n",
       "    <tr>\n",
       "      <th>4</th>\n",
       "      <td>Prof</td>\n",
       "      <td>B</td>\n",
       "      <td>40</td>\n",
       "      <td>41</td>\n",
       "      <td>Male</td>\n",
       "      <td>141500</td>\n",
       "    </tr>\n",
       "  </tbody>\n",
       "</table>\n",
       "</div>"
      ],
      "text/plain": [
       "       rank discipline  yrs.since.phd  yrs.service   sex  salary\n",
       "0      Prof          B             19           18  Male  139750\n",
       "1      Prof          B             20           16  Male  173200\n",
       "2  AsstProf          B              4            3  Male   79750\n",
       "3      Prof          B             45           39  Male  115000\n",
       "4      Prof          B             40           41  Male  141500"
      ]
     },
     "execution_count": 6,
     "metadata": {},
     "output_type": "execute_result"
    }
   ],
   "source": [
    "#displaying the top 5 rows of data frame\n",
    "df.head()"
   ]
  },
  {
   "cell_type": "code",
   "execution_count": 7,
   "id": "c7d55fe2",
   "metadata": {},
   "outputs": [
    {
     "data": {
      "text/html": [
       "<div>\n",
       "<style scoped>\n",
       "    .dataframe tbody tr th:only-of-type {\n",
       "        vertical-align: middle;\n",
       "    }\n",
       "\n",
       "    .dataframe tbody tr th {\n",
       "        vertical-align: top;\n",
       "    }\n",
       "\n",
       "    .dataframe thead th {\n",
       "        text-align: right;\n",
       "    }\n",
       "</style>\n",
       "<table border=\"1\" class=\"dataframe\">\n",
       "  <thead>\n",
       "    <tr style=\"text-align: right;\">\n",
       "      <th></th>\n",
       "      <th>rank</th>\n",
       "      <th>discipline</th>\n",
       "      <th>yrs.since.phd</th>\n",
       "      <th>yrs.service</th>\n",
       "      <th>sex</th>\n",
       "      <th>salary</th>\n",
       "    </tr>\n",
       "  </thead>\n",
       "  <tbody>\n",
       "    <tr>\n",
       "      <th>392</th>\n",
       "      <td>Prof</td>\n",
       "      <td>A</td>\n",
       "      <td>33</td>\n",
       "      <td>30</td>\n",
       "      <td>Male</td>\n",
       "      <td>103106</td>\n",
       "    </tr>\n",
       "    <tr>\n",
       "      <th>393</th>\n",
       "      <td>Prof</td>\n",
       "      <td>A</td>\n",
       "      <td>31</td>\n",
       "      <td>19</td>\n",
       "      <td>Male</td>\n",
       "      <td>150564</td>\n",
       "    </tr>\n",
       "    <tr>\n",
       "      <th>394</th>\n",
       "      <td>Prof</td>\n",
       "      <td>A</td>\n",
       "      <td>42</td>\n",
       "      <td>25</td>\n",
       "      <td>Male</td>\n",
       "      <td>101738</td>\n",
       "    </tr>\n",
       "    <tr>\n",
       "      <th>395</th>\n",
       "      <td>Prof</td>\n",
       "      <td>A</td>\n",
       "      <td>25</td>\n",
       "      <td>15</td>\n",
       "      <td>Male</td>\n",
       "      <td>95329</td>\n",
       "    </tr>\n",
       "    <tr>\n",
       "      <th>396</th>\n",
       "      <td>AsstProf</td>\n",
       "      <td>A</td>\n",
       "      <td>8</td>\n",
       "      <td>4</td>\n",
       "      <td>Male</td>\n",
       "      <td>81035</td>\n",
       "    </tr>\n",
       "  </tbody>\n",
       "</table>\n",
       "</div>"
      ],
      "text/plain": [
       "         rank discipline  yrs.since.phd  yrs.service   sex  salary\n",
       "392      Prof          A             33           30  Male  103106\n",
       "393      Prof          A             31           19  Male  150564\n",
       "394      Prof          A             42           25  Male  101738\n",
       "395      Prof          A             25           15  Male   95329\n",
       "396  AsstProf          A              8            4  Male   81035"
      ]
     },
     "execution_count": 7,
     "metadata": {},
     "output_type": "execute_result"
    }
   ],
   "source": [
    "#displaying the bottom 5 rows of data frame\n",
    "df.tail()"
   ]
  },
  {
   "cell_type": "code",
   "execution_count": 8,
   "id": "cb6696de",
   "metadata": {},
   "outputs": [
    {
     "data": {
      "text/html": [
       "<div>\n",
       "<style scoped>\n",
       "    .dataframe tbody tr th:only-of-type {\n",
       "        vertical-align: middle;\n",
       "    }\n",
       "\n",
       "    .dataframe tbody tr th {\n",
       "        vertical-align: top;\n",
       "    }\n",
       "\n",
       "    .dataframe thead th {\n",
       "        text-align: right;\n",
       "    }\n",
       "</style>\n",
       "<table border=\"1\" class=\"dataframe\">\n",
       "  <thead>\n",
       "    <tr style=\"text-align: right;\">\n",
       "      <th></th>\n",
       "      <th>rank</th>\n",
       "      <th>discipline</th>\n",
       "      <th>yrs.since.phd</th>\n",
       "      <th>yrs.service</th>\n",
       "      <th>sex</th>\n",
       "      <th>salary</th>\n",
       "    </tr>\n",
       "  </thead>\n",
       "  <tbody>\n",
       "    <tr>\n",
       "      <th>238</th>\n",
       "      <td>Prof</td>\n",
       "      <td>A</td>\n",
       "      <td>46</td>\n",
       "      <td>40</td>\n",
       "      <td>Male</td>\n",
       "      <td>77202</td>\n",
       "    </tr>\n",
       "  </tbody>\n",
       "</table>\n",
       "</div>"
      ],
      "text/plain": [
       "     rank discipline  yrs.since.phd  yrs.service   sex  salary\n",
       "238  Prof          A             46           40  Male   77202"
      ]
     },
     "execution_count": 8,
     "metadata": {},
     "output_type": "execute_result"
    }
   ],
   "source": [
    "#displaying sample row of the data frame\n",
    "df.sample()"
   ]
  },
  {
   "cell_type": "markdown",
   "id": "46471e46",
   "metadata": {},
   "source": [
    "# Null Values"
   ]
  },
  {
   "cell_type": "code",
   "execution_count": 9,
   "id": "d83477c7",
   "metadata": {},
   "outputs": [
    {
     "data": {
      "text/html": [
       "<div>\n",
       "<style scoped>\n",
       "    .dataframe tbody tr th:only-of-type {\n",
       "        vertical-align: middle;\n",
       "    }\n",
       "\n",
       "    .dataframe tbody tr th {\n",
       "        vertical-align: top;\n",
       "    }\n",
       "\n",
       "    .dataframe thead th {\n",
       "        text-align: right;\n",
       "    }\n",
       "</style>\n",
       "<table border=\"1\" class=\"dataframe\">\n",
       "  <thead>\n",
       "    <tr style=\"text-align: right;\">\n",
       "      <th></th>\n",
       "      <th>rank</th>\n",
       "      <th>discipline</th>\n",
       "      <th>yrs.since.phd</th>\n",
       "      <th>yrs.service</th>\n",
       "      <th>sex</th>\n",
       "      <th>salary</th>\n",
       "    </tr>\n",
       "  </thead>\n",
       "  <tbody>\n",
       "    <tr>\n",
       "      <th>0</th>\n",
       "      <td>False</td>\n",
       "      <td>False</td>\n",
       "      <td>False</td>\n",
       "      <td>False</td>\n",
       "      <td>False</td>\n",
       "      <td>False</td>\n",
       "    </tr>\n",
       "    <tr>\n",
       "      <th>1</th>\n",
       "      <td>False</td>\n",
       "      <td>False</td>\n",
       "      <td>False</td>\n",
       "      <td>False</td>\n",
       "      <td>False</td>\n",
       "      <td>False</td>\n",
       "    </tr>\n",
       "    <tr>\n",
       "      <th>2</th>\n",
       "      <td>False</td>\n",
       "      <td>False</td>\n",
       "      <td>False</td>\n",
       "      <td>False</td>\n",
       "      <td>False</td>\n",
       "      <td>False</td>\n",
       "    </tr>\n",
       "    <tr>\n",
       "      <th>3</th>\n",
       "      <td>False</td>\n",
       "      <td>False</td>\n",
       "      <td>False</td>\n",
       "      <td>False</td>\n",
       "      <td>False</td>\n",
       "      <td>False</td>\n",
       "    </tr>\n",
       "    <tr>\n",
       "      <th>4</th>\n",
       "      <td>False</td>\n",
       "      <td>False</td>\n",
       "      <td>False</td>\n",
       "      <td>False</td>\n",
       "      <td>False</td>\n",
       "      <td>False</td>\n",
       "    </tr>\n",
       "    <tr>\n",
       "      <th>...</th>\n",
       "      <td>...</td>\n",
       "      <td>...</td>\n",
       "      <td>...</td>\n",
       "      <td>...</td>\n",
       "      <td>...</td>\n",
       "      <td>...</td>\n",
       "    </tr>\n",
       "    <tr>\n",
       "      <th>392</th>\n",
       "      <td>False</td>\n",
       "      <td>False</td>\n",
       "      <td>False</td>\n",
       "      <td>False</td>\n",
       "      <td>False</td>\n",
       "      <td>False</td>\n",
       "    </tr>\n",
       "    <tr>\n",
       "      <th>393</th>\n",
       "      <td>False</td>\n",
       "      <td>False</td>\n",
       "      <td>False</td>\n",
       "      <td>False</td>\n",
       "      <td>False</td>\n",
       "      <td>False</td>\n",
       "    </tr>\n",
       "    <tr>\n",
       "      <th>394</th>\n",
       "      <td>False</td>\n",
       "      <td>False</td>\n",
       "      <td>False</td>\n",
       "      <td>False</td>\n",
       "      <td>False</td>\n",
       "      <td>False</td>\n",
       "    </tr>\n",
       "    <tr>\n",
       "      <th>395</th>\n",
       "      <td>False</td>\n",
       "      <td>False</td>\n",
       "      <td>False</td>\n",
       "      <td>False</td>\n",
       "      <td>False</td>\n",
       "      <td>False</td>\n",
       "    </tr>\n",
       "    <tr>\n",
       "      <th>396</th>\n",
       "      <td>False</td>\n",
       "      <td>False</td>\n",
       "      <td>False</td>\n",
       "      <td>False</td>\n",
       "      <td>False</td>\n",
       "      <td>False</td>\n",
       "    </tr>\n",
       "  </tbody>\n",
       "</table>\n",
       "<p>397 rows × 6 columns</p>\n",
       "</div>"
      ],
      "text/plain": [
       "      rank  discipline  yrs.since.phd  yrs.service    sex  salary\n",
       "0    False       False          False        False  False   False\n",
       "1    False       False          False        False  False   False\n",
       "2    False       False          False        False  False   False\n",
       "3    False       False          False        False  False   False\n",
       "4    False       False          False        False  False   False\n",
       "..     ...         ...            ...          ...    ...     ...\n",
       "392  False       False          False        False  False   False\n",
       "393  False       False          False        False  False   False\n",
       "394  False       False          False        False  False   False\n",
       "395  False       False          False        False  False   False\n",
       "396  False       False          False        False  False   False\n",
       "\n",
       "[397 rows x 6 columns]"
      ]
     },
     "execution_count": 9,
     "metadata": {},
     "output_type": "execute_result"
    }
   ],
   "source": [
    "#displaying boolean (T/F) for the values if it is null or not null\n",
    "df.isnull()"
   ]
  },
  {
   "cell_type": "code",
   "execution_count": 10,
   "id": "c272f02b",
   "metadata": {},
   "outputs": [
    {
     "data": {
      "text/plain": [
       "rank             0\n",
       "discipline       0\n",
       "yrs.since.phd    0\n",
       "yrs.service      0\n",
       "sex              0\n",
       "salary           0\n",
       "dtype: int64"
      ]
     },
     "execution_count": 10,
     "metadata": {},
     "output_type": "execute_result"
    }
   ],
   "source": [
    "#displaying the total number of Null Values available columnwise\n",
    "df.isnull().sum()"
   ]
  },
  {
   "cell_type": "code",
   "execution_count": 11,
   "id": "cf5a9bb6",
   "metadata": {},
   "outputs": [
    {
     "data": {
      "text/plain": [
       "0"
      ]
     },
     "execution_count": 11,
     "metadata": {},
     "output_type": "execute_result"
    }
   ],
   "source": [
    "#displaying the total number of Null Values available in the entire data frame\n",
    "df.isnull().sum().sum()"
   ]
  },
  {
   "cell_type": "code",
   "execution_count": 12,
   "id": "45caffff",
   "metadata": {},
   "outputs": [
    {
     "data": {
      "text/plain": [
       "(397, 6)"
      ]
     },
     "execution_count": 12,
     "metadata": {},
     "output_type": "execute_result"
    }
   ],
   "source": [
    "#displaying the shape of dataset i.e. rows and columns present in the dataset\n",
    "df.shape"
   ]
  },
  {
   "cell_type": "code",
   "execution_count": 13,
   "id": "f75c3dc4",
   "metadata": {},
   "outputs": [],
   "source": [
    "#since there is no null values in dataset we leave the process \n",
    "#otherwise we use imputation to fill left-out values with fillna method or simpleimputer or any other imputer"
   ]
  },
  {
   "cell_type": "code",
   "execution_count": 14,
   "id": "ec6719df",
   "metadata": {},
   "outputs": [],
   "source": [
    "#Since Machine understand only numeric values and we have some columns with string values\n",
    "#Hence we need to transform our columns / features in numeric values"
   ]
  },
  {
   "cell_type": "code",
   "execution_count": 15,
   "id": "579b96de",
   "metadata": {},
   "outputs": [
    {
     "data": {
      "text/html": [
       "<div>\n",
       "<style scoped>\n",
       "    .dataframe tbody tr th:only-of-type {\n",
       "        vertical-align: middle;\n",
       "    }\n",
       "\n",
       "    .dataframe tbody tr th {\n",
       "        vertical-align: top;\n",
       "    }\n",
       "\n",
       "    .dataframe thead th {\n",
       "        text-align: right;\n",
       "    }\n",
       "</style>\n",
       "<table border=\"1\" class=\"dataframe\">\n",
       "  <thead>\n",
       "    <tr style=\"text-align: right;\">\n",
       "      <th></th>\n",
       "      <th>rank</th>\n",
       "      <th>discipline</th>\n",
       "      <th>yrs.since.phd</th>\n",
       "      <th>yrs.service</th>\n",
       "      <th>sex</th>\n",
       "      <th>salary</th>\n",
       "    </tr>\n",
       "  </thead>\n",
       "  <tbody>\n",
       "    <tr>\n",
       "      <th>0</th>\n",
       "      <td>2</td>\n",
       "      <td>1</td>\n",
       "      <td>19</td>\n",
       "      <td>18</td>\n",
       "      <td>1</td>\n",
       "      <td>139750</td>\n",
       "    </tr>\n",
       "    <tr>\n",
       "      <th>1</th>\n",
       "      <td>2</td>\n",
       "      <td>1</td>\n",
       "      <td>20</td>\n",
       "      <td>16</td>\n",
       "      <td>1</td>\n",
       "      <td>173200</td>\n",
       "    </tr>\n",
       "    <tr>\n",
       "      <th>2</th>\n",
       "      <td>1</td>\n",
       "      <td>1</td>\n",
       "      <td>4</td>\n",
       "      <td>3</td>\n",
       "      <td>1</td>\n",
       "      <td>79750</td>\n",
       "    </tr>\n",
       "    <tr>\n",
       "      <th>3</th>\n",
       "      <td>2</td>\n",
       "      <td>1</td>\n",
       "      <td>45</td>\n",
       "      <td>39</td>\n",
       "      <td>1</td>\n",
       "      <td>115000</td>\n",
       "    </tr>\n",
       "    <tr>\n",
       "      <th>4</th>\n",
       "      <td>2</td>\n",
       "      <td>1</td>\n",
       "      <td>40</td>\n",
       "      <td>41</td>\n",
       "      <td>1</td>\n",
       "      <td>141500</td>\n",
       "    </tr>\n",
       "    <tr>\n",
       "      <th>...</th>\n",
       "      <td>...</td>\n",
       "      <td>...</td>\n",
       "      <td>...</td>\n",
       "      <td>...</td>\n",
       "      <td>...</td>\n",
       "      <td>...</td>\n",
       "    </tr>\n",
       "    <tr>\n",
       "      <th>392</th>\n",
       "      <td>2</td>\n",
       "      <td>0</td>\n",
       "      <td>33</td>\n",
       "      <td>30</td>\n",
       "      <td>1</td>\n",
       "      <td>103106</td>\n",
       "    </tr>\n",
       "    <tr>\n",
       "      <th>393</th>\n",
       "      <td>2</td>\n",
       "      <td>0</td>\n",
       "      <td>31</td>\n",
       "      <td>19</td>\n",
       "      <td>1</td>\n",
       "      <td>150564</td>\n",
       "    </tr>\n",
       "    <tr>\n",
       "      <th>394</th>\n",
       "      <td>2</td>\n",
       "      <td>0</td>\n",
       "      <td>42</td>\n",
       "      <td>25</td>\n",
       "      <td>1</td>\n",
       "      <td>101738</td>\n",
       "    </tr>\n",
       "    <tr>\n",
       "      <th>395</th>\n",
       "      <td>2</td>\n",
       "      <td>0</td>\n",
       "      <td>25</td>\n",
       "      <td>15</td>\n",
       "      <td>1</td>\n",
       "      <td>95329</td>\n",
       "    </tr>\n",
       "    <tr>\n",
       "      <th>396</th>\n",
       "      <td>1</td>\n",
       "      <td>0</td>\n",
       "      <td>8</td>\n",
       "      <td>4</td>\n",
       "      <td>1</td>\n",
       "      <td>81035</td>\n",
       "    </tr>\n",
       "  </tbody>\n",
       "</table>\n",
       "<p>397 rows × 6 columns</p>\n",
       "</div>"
      ],
      "text/plain": [
       "     rank  discipline  yrs.since.phd  yrs.service  sex  salary\n",
       "0       2           1             19           18    1  139750\n",
       "1       2           1             20           16    1  173200\n",
       "2       1           1              4            3    1   79750\n",
       "3       2           1             45           39    1  115000\n",
       "4       2           1             40           41    1  141500\n",
       "..    ...         ...            ...          ...  ...     ...\n",
       "392     2           0             33           30    1  103106\n",
       "393     2           0             31           19    1  150564\n",
       "394     2           0             42           25    1  101738\n",
       "395     2           0             25           15    1   95329\n",
       "396     1           0              8            4    1   81035\n",
       "\n",
       "[397 rows x 6 columns]"
      ]
     },
     "execution_count": 15,
     "metadata": {},
     "output_type": "execute_result"
    }
   ],
   "source": [
    "from sklearn.preprocessing import LabelEncoder\n",
    "lencode=LabelEncoder()\n",
    "df['rank']=lencode.fit_transform(df['rank'])\n",
    "df['discipline']=lencode.fit_transform(df['discipline'])\n",
    "df['sex']=lencode.fit_transform(df['sex'])\n",
    "df"
   ]
  },
  {
   "cell_type": "code",
   "execution_count": 16,
   "id": "0bec9723",
   "metadata": {},
   "outputs": [
    {
     "data": {
      "text/plain": [
       "array([1, 0])"
      ]
     },
     "execution_count": 16,
     "metadata": {},
     "output_type": "execute_result"
    }
   ],
   "source": [
    "#showing unique values in the encoaded columns\n",
    "df['sex'].unique()"
   ]
  },
  {
   "cell_type": "code",
   "execution_count": 17,
   "id": "0f96d468",
   "metadata": {},
   "outputs": [
    {
     "data": {
      "text/plain": [
       "array([2, 1, 0])"
      ]
     },
     "execution_count": 17,
     "metadata": {},
     "output_type": "execute_result"
    }
   ],
   "source": [
    "df['rank'].unique()"
   ]
  },
  {
   "cell_type": "code",
   "execution_count": 18,
   "id": "7b24bd25",
   "metadata": {},
   "outputs": [
    {
     "data": {
      "text/plain": [
       "array([1, 0])"
      ]
     },
     "execution_count": 18,
     "metadata": {},
     "output_type": "execute_result"
    }
   ],
   "source": [
    "df['discipline'].unique()"
   ]
  },
  {
   "cell_type": "code",
   "execution_count": 19,
   "id": "d9dfcbc2",
   "metadata": {},
   "outputs": [
    {
     "data": {
      "text/plain": [
       "2"
      ]
     },
     "execution_count": 19,
     "metadata": {},
     "output_type": "execute_result"
    }
   ],
   "source": [
    "len(df['discipline'].unique())"
   ]
  },
  {
   "cell_type": "markdown",
   "id": "bcf74500",
   "metadata": {},
   "source": [
    "# EDA"
   ]
  },
  {
   "cell_type": "markdown",
   "id": "30c62c3b",
   "metadata": {},
   "source": [
    "## Scatterplot"
   ]
  },
  {
   "cell_type": "code",
   "execution_count": 20,
   "id": "17e00f79",
   "metadata": {},
   "outputs": [
    {
     "data": {
      "text/plain": [
       "array([2, 1, 0])"
      ]
     },
     "execution_count": 20,
     "metadata": {},
     "output_type": "execute_result"
    }
   ],
   "source": [
    "df['rank'].unique()"
   ]
  },
  {
   "cell_type": "code",
   "execution_count": 21,
   "id": "374f8fc4",
   "metadata": {},
   "outputs": [],
   "source": [
    "#importing seaborn library as sns\n",
    "import seaborn as sns\n",
    "import matplotlib.pyplot as plt"
   ]
  },
  {
   "cell_type": "code",
   "execution_count": 22,
   "id": "bd6ffa5f",
   "metadata": {},
   "outputs": [
    {
     "data": {
      "image/png": "[encoded data removed]",
      "text/plain": [
       "<Figure size 432x288 with 1 Axes>"
      ]
     },
     "metadata": {
      "needs_background": "light"
     },
     "output_type": "display_data"
    }
   ],
   "source": [
    "import seaborn as sns\n",
    "sns.scatterplot(x=\"rank\", y=\"salary\", data=df)\n",
    "plt.show()"
   ]
  },
  {
   "cell_type": "markdown",
   "id": "7b86992d",
   "metadata": {},
   "source": [
    "- rank is equally distributed up to 100000"
   ]
  },
  {
   "cell_type": "code",
   "execution_count": 23,
   "id": "7f76af00",
   "metadata": {},
   "outputs": [
    {
     "data": {
      "image/png": "[encoded data removed]",
      "text/plain": [
       "<Figure size 432x288 with 1 Axes>"
      ]
     },
     "metadata": {
      "needs_background": "light"
     },
     "output_type": "display_data"
    }
   ],
   "source": [
    "sns.scatterplot(x=\"discipline\", y=\"salary\", data=df)\n",
    "plt.show()"
   ]
  },
  {
   "cell_type": "markdown",
   "id": "5857fec8",
   "metadata": {},
   "source": [
    "- discipline is equally distributed up to salary of 200000"
   ]
  },
  {
   "cell_type": "code",
   "execution_count": 24,
   "id": "aac79aca",
   "metadata": {},
   "outputs": [
    {
     "data": {
      "text/plain": [
       "<AxesSubplot:xlabel='yrs.since.phd', ylabel='salary'>"
      ]
     },
     "execution_count": 24,
     "metadata": {},
     "output_type": "execute_result"
    },
    {
     "data": {
      "image/png": "[encoded data removed]",
      "text/plain": [
       "<Figure size 432x288 with 1 Axes>"
      ]
     },
     "metadata": {
      "needs_background": "light"
     },
     "output_type": "display_data"
    }
   ],
   "source": [
    "sns.scatterplot(x=\"yrs.since.phd\", y=\"salary\", data=df)"
   ]
  },
  {
   "cell_type": "markdown",
   "id": "f467dd9f",
   "metadata": {},
   "source": [
    "- years since phd is ccattered"
   ]
  },
  {
   "cell_type": "code",
   "execution_count": 25,
   "id": "ee7c1834",
   "metadata": {},
   "outputs": [
    {
     "data": {
      "text/plain": [
       "<AxesSubplot:xlabel='yrs.service', ylabel='salary'>"
      ]
     },
     "execution_count": 25,
     "metadata": {},
     "output_type": "execute_result"
    },
    {
     "data": {
      "image/png": "[encoded data removed]",
      "text/plain": [
       "<Figure size 432x288 with 1 Axes>"
      ]
     },
     "metadata": {
      "needs_background": "light"
     },
     "output_type": "display_data"
    }
   ],
   "source": [
    "sns.scatterplot(x=\"yrs.service\", y=\"salary\", data=df)"
   ]
  },
  {
   "cell_type": "markdown",
   "id": "fe9936ad",
   "metadata": {},
   "source": [
    "- years of service is ccattered"
   ]
  },
  {
   "cell_type": "code",
   "execution_count": 26,
   "id": "5a95d77e",
   "metadata": {},
   "outputs": [
    {
     "data": {
      "text/plain": [
       "<AxesSubplot:xlabel='sex', ylabel='salary'>"
      ]
     },
     "execution_count": 26,
     "metadata": {},
     "output_type": "execute_result"
    },
    {
     "data": {
      "image/png": "[encoded data removed]",
      "text/plain": [
       "<Figure size 432x288 with 1 Axes>"
      ]
     },
     "metadata": {
      "needs_background": "light"
     },
     "output_type": "display_data"
    }
   ],
   "source": [
    "sns.scatterplot(x=\"sex\", y=\"salary\", data=df)"
   ]
  },
  {
   "cell_type": "markdown",
   "id": "0232a164",
   "metadata": {},
   "source": [
    "- Sex is not equally distributed with respect to salary"
   ]
  },
  {
   "cell_type": "code",
   "execution_count": 27,
   "id": "8a4ee95f",
   "metadata": {},
   "outputs": [
    {
     "data": {
      "image/png": "[encoded data removed]",
      "text/plain": [
       "<Figure size 1080x1080 with 42 Axes>"
      ]
     },
     "metadata": {
      "needs_background": "light"
     },
     "output_type": "display_data"
    }
   ],
   "source": [
    "#showing data of all the columns\n",
    "import matplotlib.pyplot as plt\n",
    "sns.pairplot(df)\n",
    "plt.savefig('mypair.png')\n",
    "plt.show()"
   ]
  },
  {
   "cell_type": "code",
   "execution_count": 28,
   "id": "bc091e02",
   "metadata": {},
   "outputs": [
    {
     "data": {
      "text/html": [
       "<div>\n",
       "<style scoped>\n",
       "    .dataframe tbody tr th:only-of-type {\n",
       "        vertical-align: middle;\n",
       "    }\n",
       "\n",
       "    .dataframe tbody tr th {\n",
       "        vertical-align: top;\n",
       "    }\n",
       "\n",
       "    .dataframe thead th {\n",
       "        text-align: right;\n",
       "    }\n",
       "</style>\n",
       "<table border=\"1\" class=\"dataframe\">\n",
       "  <thead>\n",
       "    <tr style=\"text-align: right;\">\n",
       "      <th></th>\n",
       "      <th>rank</th>\n",
       "      <th>discipline</th>\n",
       "      <th>yrs.since.phd</th>\n",
       "      <th>yrs.service</th>\n",
       "      <th>sex</th>\n",
       "      <th>salary</th>\n",
       "    </tr>\n",
       "  </thead>\n",
       "  <tbody>\n",
       "    <tr>\n",
       "      <th>rank</th>\n",
       "      <td>1.000000</td>\n",
       "      <td>-0.086266</td>\n",
       "      <td>0.525500</td>\n",
       "      <td>0.447499</td>\n",
       "      <td>0.132492</td>\n",
       "      <td>0.522207</td>\n",
       "    </tr>\n",
       "    <tr>\n",
       "      <th>discipline</th>\n",
       "      <td>-0.086266</td>\n",
       "      <td>1.000000</td>\n",
       "      <td>-0.218087</td>\n",
       "      <td>-0.164599</td>\n",
       "      <td>0.003724</td>\n",
       "      <td>0.156084</td>\n",
       "    </tr>\n",
       "    <tr>\n",
       "      <th>yrs.since.phd</th>\n",
       "      <td>0.525500</td>\n",
       "      <td>-0.218087</td>\n",
       "      <td>1.000000</td>\n",
       "      <td>0.909649</td>\n",
       "      <td>0.148788</td>\n",
       "      <td>0.419231</td>\n",
       "    </tr>\n",
       "    <tr>\n",
       "      <th>yrs.service</th>\n",
       "      <td>0.447499</td>\n",
       "      <td>-0.164599</td>\n",
       "      <td>0.909649</td>\n",
       "      <td>1.000000</td>\n",
       "      <td>0.153740</td>\n",
       "      <td>0.334745</td>\n",
       "    </tr>\n",
       "    <tr>\n",
       "      <th>sex</th>\n",
       "      <td>0.132492</td>\n",
       "      <td>0.003724</td>\n",
       "      <td>0.148788</td>\n",
       "      <td>0.153740</td>\n",
       "      <td>1.000000</td>\n",
       "      <td>0.138610</td>\n",
       "    </tr>\n",
       "    <tr>\n",
       "      <th>salary</th>\n",
       "      <td>0.522207</td>\n",
       "      <td>0.156084</td>\n",
       "      <td>0.419231</td>\n",
       "      <td>0.334745</td>\n",
       "      <td>0.138610</td>\n",
       "      <td>1.000000</td>\n",
       "    </tr>\n",
       "  </tbody>\n",
       "</table>\n",
       "</div>"
      ],
      "text/plain": [
       "                   rank  discipline  yrs.since.phd  yrs.service       sex  \\\n",
       "rank           1.000000   -0.086266       0.525500     0.447499  0.132492   \n",
       "discipline    -0.086266    1.000000      -0.218087    -0.164599  0.003724   \n",
       "yrs.since.phd  0.525500   -0.218087       1.000000     0.909649  0.148788   \n",
       "yrs.service    0.447499   -0.164599       0.909649     1.000000  0.153740   \n",
       "sex            0.132492    0.003724       0.148788     0.153740  1.000000   \n",
       "salary         0.522207    0.156084       0.419231     0.334745  0.138610   \n",
       "\n",
       "                 salary  \n",
       "rank           0.522207  \n",
       "discipline     0.156084  \n",
       "yrs.since.phd  0.419231  \n",
       "yrs.service    0.334745  \n",
       "sex            0.138610  \n",
       "salary         1.000000  "
      ]
     },
     "execution_count": 28,
     "metadata": {},
     "output_type": "execute_result"
    }
   ],
   "source": [
    "df.corr()"
   ]
  },
  {
   "cell_type": "code",
   "execution_count": 29,
   "id": "59929a8f",
   "metadata": {},
   "outputs": [
    {
     "data": {
      "image/png": "[encoded data removed]",
      "text/plain": [
       "<Figure size 1080x576 with 2 Axes>"
      ]
     },
     "metadata": {
      "needs_background": "light"
     },
     "output_type": "display_data"
    }
   ],
   "source": [
    "#size of the figure\n",
    "plt.figure(figsize=(15,8))\n",
    "sns.heatmap(df.corr(),annot=True,linewidth=0.5,linecolor=\"black\",fmt='.2f')\n",
    "plt.show()"
   ]
  },
  {
   "cell_type": "markdown",
   "id": "3adb9d96",
   "metadata": {},
   "source": [
    "- 1. rank, yrs.since.phd and yrs.service are substantially correlated to salary\n",
    "- 2. other features are bit correlated to salary"
   ]
  },
  {
   "cell_type": "code",
   "execution_count": 30,
   "id": "3a5bab60",
   "metadata": {},
   "outputs": [
    {
     "data": {
      "text/plain": [
       "sex              0.138610\n",
       "discipline       0.156084\n",
       "yrs.service      0.334745\n",
       "yrs.since.phd    0.419231\n",
       "rank             0.522207\n",
       "salary           1.000000\n",
       "Name: salary, dtype: float64"
      ]
     },
     "execution_count": 30,
     "metadata": {},
     "output_type": "execute_result"
    }
   ],
   "source": [
    "#showing the correlation of Happiness Score with other columns in sorted order\n",
    "df.corr()['salary'].sort_values()"
   ]
  },
  {
   "cell_type": "markdown",
   "id": "67f457a6",
   "metadata": {},
   "source": [
    "# Descriptive Statistics"
   ]
  },
  {
   "cell_type": "code",
   "execution_count": 31,
   "id": "e43157fb",
   "metadata": {},
   "outputs": [
    {
     "data": {
      "text/html": [
       "<div>\n",
       "<style scoped>\n",
       "    .dataframe tbody tr th:only-of-type {\n",
       "        vertical-align: middle;\n",
       "    }\n",
       "\n",
       "    .dataframe tbody tr th {\n",
       "        vertical-align: top;\n",
       "    }\n",
       "\n",
       "    .dataframe thead th {\n",
       "        text-align: right;\n",
       "    }\n",
       "</style>\n",
       "<table border=\"1\" class=\"dataframe\">\n",
       "  <thead>\n",
       "    <tr style=\"text-align: right;\">\n",
       "      <th></th>\n",
       "      <th>rank</th>\n",
       "      <th>discipline</th>\n",
       "      <th>yrs.since.phd</th>\n",
       "      <th>yrs.service</th>\n",
       "      <th>sex</th>\n",
       "      <th>salary</th>\n",
       "    </tr>\n",
       "  </thead>\n",
       "  <tbody>\n",
       "    <tr>\n",
       "      <th>count</th>\n",
       "      <td>397.000000</td>\n",
       "      <td>397.000000</td>\n",
       "      <td>397.000000</td>\n",
       "      <td>397.000000</td>\n",
       "      <td>397.000000</td>\n",
       "      <td>397.000000</td>\n",
       "    </tr>\n",
       "    <tr>\n",
       "      <th>mean</th>\n",
       "      <td>1.508816</td>\n",
       "      <td>0.544081</td>\n",
       "      <td>22.314861</td>\n",
       "      <td>17.614610</td>\n",
       "      <td>0.901763</td>\n",
       "      <td>113706.458438</td>\n",
       "    </tr>\n",
       "    <tr>\n",
       "      <th>std</th>\n",
       "      <td>0.757486</td>\n",
       "      <td>0.498682</td>\n",
       "      <td>12.887003</td>\n",
       "      <td>13.006024</td>\n",
       "      <td>0.298010</td>\n",
       "      <td>30289.038695</td>\n",
       "    </tr>\n",
       "    <tr>\n",
       "      <th>min</th>\n",
       "      <td>0.000000</td>\n",
       "      <td>0.000000</td>\n",
       "      <td>1.000000</td>\n",
       "      <td>0.000000</td>\n",
       "      <td>0.000000</td>\n",
       "      <td>57800.000000</td>\n",
       "    </tr>\n",
       "    <tr>\n",
       "      <th>25%</th>\n",
       "      <td>1.000000</td>\n",
       "      <td>0.000000</td>\n",
       "      <td>12.000000</td>\n",
       "      <td>7.000000</td>\n",
       "      <td>1.000000</td>\n",
       "      <td>91000.000000</td>\n",
       "    </tr>\n",
       "    <tr>\n",
       "      <th>50%</th>\n",
       "      <td>2.000000</td>\n",
       "      <td>1.000000</td>\n",
       "      <td>21.000000</td>\n",
       "      <td>16.000000</td>\n",
       "      <td>1.000000</td>\n",
       "      <td>107300.000000</td>\n",
       "    </tr>\n",
       "    <tr>\n",
       "      <th>75%</th>\n",
       "      <td>2.000000</td>\n",
       "      <td>1.000000</td>\n",
       "      <td>32.000000</td>\n",
       "      <td>27.000000</td>\n",
       "      <td>1.000000</td>\n",
       "      <td>134185.000000</td>\n",
       "    </tr>\n",
       "    <tr>\n",
       "      <th>max</th>\n",
       "      <td>2.000000</td>\n",
       "      <td>1.000000</td>\n",
       "      <td>56.000000</td>\n",
       "      <td>60.000000</td>\n",
       "      <td>1.000000</td>\n",
       "      <td>231545.000000</td>\n",
       "    </tr>\n",
       "  </tbody>\n",
       "</table>\n",
       "</div>"
      ],
      "text/plain": [
       "             rank  discipline  yrs.since.phd  yrs.service         sex  \\\n",
       "count  397.000000  397.000000     397.000000   397.000000  397.000000   \n",
       "mean     1.508816    0.544081      22.314861    17.614610    0.901763   \n",
       "std      0.757486    0.498682      12.887003    13.006024    0.298010   \n",
       "min      0.000000    0.000000       1.000000     0.000000    0.000000   \n",
       "25%      1.000000    0.000000      12.000000     7.000000    1.000000   \n",
       "50%      2.000000    1.000000      21.000000    16.000000    1.000000   \n",
       "75%      2.000000    1.000000      32.000000    27.000000    1.000000   \n",
       "max      2.000000    1.000000      56.000000    60.000000    1.000000   \n",
       "\n",
       "              salary  \n",
       "count     397.000000  \n",
       "mean   113706.458438  \n",
       "std     30289.038695  \n",
       "min     57800.000000  \n",
       "25%     91000.000000  \n",
       "50%    107300.000000  \n",
       "75%    134185.000000  \n",
       "max    231545.000000  "
      ]
     },
     "execution_count": 31,
     "metadata": {},
     "output_type": "execute_result"
    }
   ],
   "source": [
    "df.describe()"
   ]
  },
  {
   "cell_type": "markdown",
   "id": "519084c2",
   "metadata": {},
   "source": [
    "- Features are not normally distributed"
   ]
  },
  {
   "cell_type": "code",
   "execution_count": 32,
   "id": "4dc2d84f",
   "metadata": {},
   "outputs": [
    {
     "data": {
      "image/png": "[encoded data removed]",
      "text/plain": [
       "<Figure size 1080x864 with 2 Axes>"
      ]
     },
     "metadata": {
      "needs_background": "light"
     },
     "output_type": "display_data"
    }
   ],
   "source": [
    "#showing describe elements using heatmap\n",
    "import matplotlib.pyplot as plt\n",
    "plt.figure(figsize=(15,12))\n",
    "sns.heatmap(round(df.describe()[1:].transpose(),2),linewidth=2,annot=False,fmt='f')\n",
    "plt.xticks(fontsize=18)\n",
    "plt.yticks(fontsize=12)\n",
    "plt.title(\"Summary\")\n",
    "plt.savefig('heatmap.png')\n",
    "plt.show()"
   ]
  },
  {
   "cell_type": "markdown",
   "id": "2fd6cdbb",
   "metadata": {},
   "source": [
    "- Outcome\n",
    "- Data frame has 397 Rows and 6 Columns\n",
    "-yrs.since.phd \n",
    "- - Min = 1\n",
    "- - 25% = 12\n",
    "- - 50% = 21\n",
    "- - 75% = 32\n",
    "- - Max = 56\n",
    "\n",
    "and so on for other features."
   ]
  },
  {
   "cell_type": "code",
   "execution_count": 33,
   "id": "703b643e",
   "metadata": {},
   "outputs": [
    {
     "name": "stdout",
     "output_type": "stream",
     "text": [
      "<class 'pandas.core.frame.DataFrame'>\n",
      "RangeIndex: 397 entries, 0 to 396\n",
      "Data columns (total 6 columns):\n",
      " #   Column         Non-Null Count  Dtype\n",
      "---  ------         --------------  -----\n",
      " 0   rank           397 non-null    int32\n",
      " 1   discipline     397 non-null    int32\n",
      " 2   yrs.since.phd  397 non-null    int64\n",
      " 3   yrs.service    397 non-null    int64\n",
      " 4   sex            397 non-null    int32\n",
      " 5   salary         397 non-null    int64\n",
      "dtypes: int32(3), int64(3)\n",
      "memory usage: 14.1 KB\n"
     ]
    }
   ],
   "source": [
    "#showing columns data type and memory used by data frame\n",
    "df.info()"
   ]
  },
  {
   "cell_type": "markdown",
   "id": "58015713",
   "metadata": {},
   "source": [
    "# Outliers Checking "
   ]
  },
  {
   "cell_type": "code",
   "execution_count": 34,
   "id": "e906f5c3",
   "metadata": {},
   "outputs": [],
   "source": [
    "import warnings\n",
    "warnings.filterwarnings('ignore')"
   ]
  },
  {
   "cell_type": "code",
   "execution_count": 35,
   "id": "1ef1431d",
   "metadata": {},
   "outputs": [],
   "source": [
    "#Declaring variables \n",
    "collist=df.columns.values\n",
    "ncol=25\n",
    "nrow=15"
   ]
  },
  {
   "cell_type": "code",
   "execution_count": 36,
   "id": "c2cc60e2",
   "metadata": {},
   "outputs": [
    {
     "data": {
      "text/plain": [
       "array(['rank', 'discipline', 'yrs.since.phd', 'yrs.service', 'sex',\n",
       "       'salary'], dtype=object)"
      ]
     },
     "execution_count": 36,
     "metadata": {},
     "output_type": "execute_result"
    }
   ],
   "source": [
    "collist"
   ]
  },
  {
   "cell_type": "code",
   "execution_count": 37,
   "id": "1474e032",
   "metadata": {},
   "outputs": [
    {
     "name": "stdout",
     "output_type": "stream",
     "text": [
      "rank\n",
      "discipline\n",
      "yrs.since.phd\n",
      "yrs.service\n",
      "sex\n",
      "salary\n"
     ]
    }
   ],
   "source": [
    "for i in range(0,len(collist)):\n",
    "    print(collist[i])\n",
    "    "
   ]
  },
  {
   "cell_type": "code",
   "execution_count": 38,
   "id": "715a8b4b",
   "metadata": {},
   "outputs": [
    {
     "data": {
      "image/png": "[encoded data removed]",
      "text/plain": [
       "<Figure size 1800x5400 with 6 Axes>"
      ]
     },
     "metadata": {
      "needs_background": "light"
     },
     "output_type": "display_data"
    }
   ],
   "source": [
    "#showing boxplot of features\n",
    "plt.figure(figsize=(ncol,3*ncol))\n",
    "for i in range(0,len(collist)):\n",
    "    plt.subplot(nrow,ncol,i+1)\n",
    "    sns.boxplot(data=df[collist[i]],color='blue',orient='v')\n",
    "    plt.tight_layout()"
   ]
  },
  {
   "cell_type": "markdown",
   "id": "6fc91330",
   "metadata": {},
   "source": [
    "- yrs.service and salary features seems to have some outlier"
   ]
  },
  {
   "cell_type": "markdown",
   "id": "ed1d5c78",
   "metadata": {},
   "source": [
    "# Skewness"
   ]
  },
  {
   "cell_type": "code",
   "execution_count": 39,
   "id": "b917639f",
   "metadata": {},
   "outputs": [
    {
     "data": {
      "text/plain": [
       "rank            -1.151164\n",
       "discipline      -0.177684\n",
       "yrs.since.phd    0.300880\n",
       "yrs.service      0.650569\n",
       "sex             -2.709958\n",
       "salary           0.714568\n",
       "dtype: float64"
      ]
     },
     "execution_count": 39,
     "metadata": {},
     "output_type": "execute_result"
    }
   ],
   "source": [
    "#displaying skeness in the features of data frame\n",
    "df.skew()"
   ]
  },
  {
   "cell_type": "markdown",
   "id": "f6766fe7",
   "metadata": {},
   "source": [
    "- Threshhold for skeness is +-0.7\n",
    "- Sex and yrs.service have higher skewness but both of these features are transformed features so no need to do anything"
   ]
  },
  {
   "cell_type": "markdown",
   "id": "787c0df3",
   "metadata": {},
   "source": [
    "# Normal Distribution Curve"
   ]
  },
  {
   "cell_type": "code",
   "execution_count": 40,
   "id": "202cdf55",
   "metadata": {},
   "outputs": [
    {
     "data": {
      "text/plain": [
       "<AxesSubplot:xlabel='rank', ylabel='Density'>"
      ]
     },
     "execution_count": 40,
     "metadata": {},
     "output_type": "execute_result"
    },
    {
     "data": {
      "image/png": "[encoded data removed]",
      "text/plain": [
       "<Figure size 432x288 with 1 Axes>"
      ]
     },
     "metadata": {
      "needs_background": "light"
     },
     "output_type": "display_data"
    }
   ],
   "source": [
    "sns.distplot(df['rank'])"
   ]
  },
  {
   "cell_type": "code",
   "execution_count": 41,
   "id": "c8dcd496",
   "metadata": {},
   "outputs": [
    {
     "data": {
      "text/plain": [
       "<AxesSubplot:xlabel='discipline', ylabel='Density'>"
      ]
     },
     "execution_count": 41,
     "metadata": {},
     "output_type": "execute_result"
    },
    {
     "data": {
      "image/png": "[encoded data removed]",
      "text/plain": [
       "<Figure size 432x288 with 1 Axes>"
      ]
     },
     "metadata": {
      "needs_background": "light"
     },
     "output_type": "display_data"
    }
   ],
   "source": [
    "sns.distplot(df['discipline'])"
   ]
  },
  {
   "cell_type": "code",
   "execution_count": 42,
   "id": "2c4f5f5e",
   "metadata": {},
   "outputs": [
    {
     "data": {
      "text/plain": [
       "<AxesSubplot:xlabel='yrs.since.phd', ylabel='Density'>"
      ]
     },
     "execution_count": 42,
     "metadata": {},
     "output_type": "execute_result"
    },
    {
     "data": {
      "image/png": "[encoded data removed]",
      "text/plain": [
       "<Figure size 432x288 with 1 Axes>"
      ]
     },
     "metadata": {
      "needs_background": "light"
     },
     "output_type": "display_data"
    }
   ],
   "source": [
    "sns.distplot(df['yrs.since.phd'])"
   ]
  },
  {
   "cell_type": "code",
   "execution_count": 43,
   "id": "c1edb06c",
   "metadata": {},
   "outputs": [
    {
     "data": {
      "text/plain": [
       "<AxesSubplot:xlabel='yrs.service', ylabel='Density'>"
      ]
     },
     "execution_count": 43,
     "metadata": {},
     "output_type": "execute_result"
    },
    {
     "data": {
      "image/png": "[encoded data removed]",
      "text/plain": [
       "<Figure size 432x288 with 1 Axes>"
      ]
     },
     "metadata": {
      "needs_background": "light"
     },
     "output_type": "display_data"
    }
   ],
   "source": [
    "sns.distplot(df['yrs.service'])"
   ]
  },
  {
   "cell_type": "code",
   "execution_count": 44,
   "id": "56362acb",
   "metadata": {},
   "outputs": [
    {
     "data": {
      "text/plain": [
       "<AxesSubplot:xlabel='sex', ylabel='Density'>"
      ]
     },
     "execution_count": 44,
     "metadata": {},
     "output_type": "execute_result"
    },
    {
     "data": {
      "image/png": "[encoded data removed]",
      "text/plain": [
       "<Figure size 432x288 with 1 Axes>"
      ]
     },
     "metadata": {
      "needs_background": "light"
     },
     "output_type": "display_data"
    }
   ],
   "source": [
    "sns.distplot(df['sex'])"
   ]
  },
  {
   "cell_type": "code",
   "execution_count": 45,
   "id": "108d1427",
   "metadata": {},
   "outputs": [
    {
     "data": {
      "text/plain": [
       "<AxesSubplot:xlabel='salary', ylabel='Density'>"
      ]
     },
     "execution_count": 45,
     "metadata": {},
     "output_type": "execute_result"
    },
    {
     "data": {
      "image/png": "[encoded data removed]",
      "text/plain": [
       "<Figure size 432x288 with 1 Axes>"
      ]
     },
     "metadata": {
      "needs_background": "light"
     },
     "output_type": "display_data"
    }
   ],
   "source": [
    "sns.distplot(df['salary'])"
   ]
  },
  {
   "cell_type": "markdown",
   "id": "8ba980b3",
   "metadata": {},
   "source": [
    "- Economy (GDP per Capita), Family features are not normally distributed"
   ]
  },
  {
   "cell_type": "markdown",
   "id": "2e4a4b1d",
   "metadata": {},
   "source": [
    "# The normal Distribution shows that the data is skewed"
   ]
  },
  {
   "cell_type": "markdown",
   "id": "956c7c1c",
   "metadata": {},
   "source": [
    "## Cleansing the data"
   ]
  },
  {
   "cell_type": "code",
   "execution_count": 46,
   "id": "e713b9bd",
   "metadata": {},
   "outputs": [
    {
     "data": {
      "text/plain": [
       "rank             0.522207\n",
       "discipline       0.156084\n",
       "yrs.since.phd    0.419231\n",
       "yrs.service      0.334745\n",
       "sex              0.138610\n",
       "salary           1.000000\n",
       "Name: salary, dtype: float64"
      ]
     },
     "execution_count": 46,
     "metadata": {},
     "output_type": "execute_result"
    }
   ],
   "source": [
    "df.corr()['salary']"
   ]
  },
  {
   "cell_type": "markdown",
   "id": "40a08c2a",
   "metadata": {},
   "source": [
    "- Threshhold correlation with salary Score is +-0.1 for removing feature\n",
    "- Since no feature is less correlated than 0.1 with salary hence no removal of feature"
   ]
  },
  {
   "cell_type": "markdown",
   "id": "fdfca729",
   "metadata": {},
   "source": [
    "## Removing outliers"
   ]
  },
  {
   "cell_type": "code",
   "execution_count": 47,
   "id": "cd578968",
   "metadata": {},
   "outputs": [
    {
     "data": {
      "text/html": [
       "<div>\n",
       "<style scoped>\n",
       "    .dataframe tbody tr th:only-of-type {\n",
       "        vertical-align: middle;\n",
       "    }\n",
       "\n",
       "    .dataframe tbody tr th {\n",
       "        vertical-align: top;\n",
       "    }\n",
       "\n",
       "    .dataframe thead th {\n",
       "        text-align: right;\n",
       "    }\n",
       "</style>\n",
       "<table border=\"1\" class=\"dataframe\">\n",
       "  <thead>\n",
       "    <tr style=\"text-align: right;\">\n",
       "      <th></th>\n",
       "      <th>rank</th>\n",
       "      <th>discipline</th>\n",
       "      <th>yrs.since.phd</th>\n",
       "      <th>yrs.service</th>\n",
       "      <th>sex</th>\n",
       "      <th>salary</th>\n",
       "    </tr>\n",
       "  </thead>\n",
       "  <tbody>\n",
       "    <tr>\n",
       "      <th>0</th>\n",
       "      <td>0.649257</td>\n",
       "      <td>0.915403</td>\n",
       "      <td>0.257550</td>\n",
       "      <td>0.029669</td>\n",
       "      <td>0.330058</td>\n",
       "      <td>0.860919</td>\n",
       "    </tr>\n",
       "    <tr>\n",
       "      <th>1</th>\n",
       "      <td>0.649257</td>\n",
       "      <td>0.915403</td>\n",
       "      <td>0.179854</td>\n",
       "      <td>0.124300</td>\n",
       "      <td>0.330058</td>\n",
       "      <td>1.966672</td>\n",
       "    </tr>\n",
       "    <tr>\n",
       "      <th>2</th>\n",
       "      <td>0.672564</td>\n",
       "      <td>0.915403</td>\n",
       "      <td>1.422982</td>\n",
       "      <td>1.125098</td>\n",
       "      <td>0.330058</td>\n",
       "      <td>1.122495</td>\n",
       "    </tr>\n",
       "    <tr>\n",
       "      <th>3</th>\n",
       "      <td>0.649257</td>\n",
       "      <td>0.915403</td>\n",
       "      <td>1.762533</td>\n",
       "      <td>1.646343</td>\n",
       "      <td>0.330058</td>\n",
       "      <td>0.042760</td>\n",
       "    </tr>\n",
       "    <tr>\n",
       "      <th>4</th>\n",
       "      <td>0.649257</td>\n",
       "      <td>0.915403</td>\n",
       "      <td>1.374055</td>\n",
       "      <td>1.800312</td>\n",
       "      <td>0.330058</td>\n",
       "      <td>0.918768</td>\n",
       "    </tr>\n",
       "    <tr>\n",
       "      <th>...</th>\n",
       "      <td>...</td>\n",
       "      <td>...</td>\n",
       "      <td>...</td>\n",
       "      <td>...</td>\n",
       "      <td>...</td>\n",
       "      <td>...</td>\n",
       "    </tr>\n",
       "    <tr>\n",
       "      <th>392</th>\n",
       "      <td>0.649257</td>\n",
       "      <td>1.092415</td>\n",
       "      <td>0.830187</td>\n",
       "      <td>0.953483</td>\n",
       "      <td>0.330058</td>\n",
       "      <td>0.350418</td>\n",
       "    </tr>\n",
       "    <tr>\n",
       "      <th>393</th>\n",
       "      <td>0.649257</td>\n",
       "      <td>1.092415</td>\n",
       "      <td>0.674796</td>\n",
       "      <td>0.106654</td>\n",
       "      <td>0.330058</td>\n",
       "      <td>1.218396</td>\n",
       "    </tr>\n",
       "    <tr>\n",
       "      <th>394</th>\n",
       "      <td>0.649257</td>\n",
       "      <td>1.092415</td>\n",
       "      <td>1.529446</td>\n",
       "      <td>0.568560</td>\n",
       "      <td>0.330058</td>\n",
       "      <td>0.395640</td>\n",
       "    </tr>\n",
       "    <tr>\n",
       "      <th>395</th>\n",
       "      <td>0.649257</td>\n",
       "      <td>1.092415</td>\n",
       "      <td>0.208623</td>\n",
       "      <td>0.201284</td>\n",
       "      <td>0.330058</td>\n",
       "      <td>0.607502</td>\n",
       "    </tr>\n",
       "    <tr>\n",
       "      <th>396</th>\n",
       "      <td>0.672564</td>\n",
       "      <td>1.092415</td>\n",
       "      <td>1.112200</td>\n",
       "      <td>1.048113</td>\n",
       "      <td>0.330058</td>\n",
       "      <td>1.080017</td>\n",
       "    </tr>\n",
       "  </tbody>\n",
       "</table>\n",
       "<p>397 rows × 6 columns</p>\n",
       "</div>"
      ],
      "text/plain": [
       "         rank  discipline  yrs.since.phd  yrs.service       sex    salary\n",
       "0    0.649257    0.915403       0.257550     0.029669  0.330058  0.860919\n",
       "1    0.649257    0.915403       0.179854     0.124300  0.330058  1.966672\n",
       "2    0.672564    0.915403       1.422982     1.125098  0.330058  1.122495\n",
       "3    0.649257    0.915403       1.762533     1.646343  0.330058  0.042760\n",
       "4    0.649257    0.915403       1.374055     1.800312  0.330058  0.918768\n",
       "..        ...         ...            ...          ...       ...       ...\n",
       "392  0.649257    1.092415       0.830187     0.953483  0.330058  0.350418\n",
       "393  0.649257    1.092415       0.674796     0.106654  0.330058  1.218396\n",
       "394  0.649257    1.092415       1.529446     0.568560  0.330058  0.395640\n",
       "395  0.649257    1.092415       0.208623     0.201284  0.330058  0.607502\n",
       "396  0.672564    1.092415       1.112200     1.048113  0.330058  1.080017\n",
       "\n",
       "[397 rows x 6 columns]"
      ]
     },
     "execution_count": 47,
     "metadata": {},
     "output_type": "execute_result"
    }
   ],
   "source": [
    "#showing zscore of dataframe\n",
    "from scipy.stats import zscore\n",
    "np.abs(zscore(df))"
   ]
  },
  {
   "cell_type": "code",
   "execution_count": 48,
   "id": "48bdd2d3",
   "metadata": {},
   "outputs": [
    {
     "data": {
      "text/plain": [
       "(397, 6)"
      ]
     },
     "execution_count": 48,
     "metadata": {},
     "output_type": "execute_result"
    }
   ],
   "source": [
    "#showing shape of dataframe\n",
    "z=np.abs(zscore(df))\n",
    "z.shape"
   ]
  },
  {
   "cell_type": "code",
   "execution_count": 49,
   "id": "0aa9446d",
   "metadata": {},
   "outputs": [
    {
     "data": {
      "text/plain": [
       "(array([  9,  19,  24,  34,  35,  43,  47,  48,  52,  63,  68,  84,  90,\n",
       "        103, 114, 119, 123, 127, 131, 132, 133, 148, 153, 179, 186, 218,\n",
       "        230, 231, 233, 237, 245, 253, 254, 274, 316, 323, 330, 332, 334,\n",
       "        341, 358, 361, 364], dtype=int64),\n",
       " array([4, 4, 4, 4, 4, 5, 4, 4, 4, 4, 4, 4, 4, 4, 4, 4, 4, 4, 3, 4, 4, 4,\n",
       "        4, 4, 4, 4, 4, 4, 4, 4, 4, 4, 4, 4, 4, 4, 3, 4, 4, 4, 4, 4, 5],\n",
       "       dtype=int64))"
      ]
     },
     "execution_count": 49,
     "metadata": {},
     "output_type": "execute_result"
    }
   ],
   "source": [
    "np.where(z>3)"
   ]
  },
  {
   "cell_type": "code",
   "execution_count": 50,
   "id": "106a1d04",
   "metadata": {},
   "outputs": [
    {
     "data": {
      "text/plain": [
       "pandas.core.frame.DataFrame"
      ]
     },
     "execution_count": 50,
     "metadata": {},
     "output_type": "execute_result"
    }
   ],
   "source": [
    "type(z)"
   ]
  },
  {
   "cell_type": "code",
   "execution_count": 51,
   "id": "19b633ef",
   "metadata": {},
   "outputs": [
    {
     "data": {
      "text/plain": [
       "43"
      ]
     },
     "execution_count": 51,
     "metadata": {},
     "output_type": "execute_result"
    }
   ],
   "source": [
    "#43 rows have outliers\n",
    "len(np.where(z>3)[0])"
   ]
  },
  {
   "cell_type": "code",
   "execution_count": 52,
   "id": "2886044c",
   "metadata": {},
   "outputs": [],
   "source": [
    "df_new=df[(z<3).all(axis=1)]"
   ]
  },
  {
   "cell_type": "code",
   "execution_count": 53,
   "id": "a958a7fe",
   "metadata": {},
   "outputs": [
    {
     "name": "stdout",
     "output_type": "stream",
     "text": [
      "Old Data Frame (397, 6)\n",
      "New Data Frame (354, 6)\n",
      "Total Data Loss 43\n"
     ]
    }
   ],
   "source": [
    "print(\"Old Data Frame\",df.shape)\n",
    "print(\"New Data Frame\",df_new.shape)\n",
    "print(\"Total Data Loss\",df.shape[0]-df_new.shape[0])"
   ]
  },
  {
   "cell_type": "markdown",
   "id": "d81f05a2",
   "metadata": {},
   "source": [
    "## Percentage Data Loss"
   ]
  },
  {
   "cell_type": "code",
   "execution_count": 54,
   "id": "1237d107",
   "metadata": {},
   "outputs": [
    {
     "name": "stdout",
     "output_type": "stream",
     "text": [
      "Data Loss is  11.0  %\n"
     ]
    }
   ],
   "source": [
    "dl=(397-354)/397\n",
    "print(\"Data Loss is \",round(dl*100,0),\" %\")"
   ]
  },
  {
   "cell_type": "markdown",
   "id": "287e5486",
   "metadata": {},
   "source": [
    "- Data Loss upto 8% acceptable here it is only 11 % hence we will loose substantial data so we will use original dataframe"
   ]
  },
  {
   "cell_type": "code",
   "execution_count": 55,
   "id": "53ed8bd9",
   "metadata": {},
   "outputs": [],
   "source": [
    "#df.drop(['sex','discipline','rank'],axis=1,inplace=True)"
   ]
  },
  {
   "cell_type": "code",
   "execution_count": 56,
   "id": "772c5313",
   "metadata": {},
   "outputs": [],
   "source": [
    "#Dividing Data into features x and target y\n",
    "y=pd.DataFrame(data=df.iloc[:,-1])\n",
    "x=df.iloc[:,0:-1]"
   ]
  },
  {
   "cell_type": "code",
   "execution_count": 57,
   "id": "25de3143",
   "metadata": {},
   "outputs": [
    {
     "data": {
      "text/html": [
       "<div>\n",
       "<style scoped>\n",
       "    .dataframe tbody tr th:only-of-type {\n",
       "        vertical-align: middle;\n",
       "    }\n",
       "\n",
       "    .dataframe tbody tr th {\n",
       "        vertical-align: top;\n",
       "    }\n",
       "\n",
       "    .dataframe thead th {\n",
       "        text-align: right;\n",
       "    }\n",
       "</style>\n",
       "<table border=\"1\" class=\"dataframe\">\n",
       "  <thead>\n",
       "    <tr style=\"text-align: right;\">\n",
       "      <th></th>\n",
       "      <th>rank</th>\n",
       "      <th>discipline</th>\n",
       "      <th>yrs.since.phd</th>\n",
       "      <th>yrs.service</th>\n",
       "      <th>sex</th>\n",
       "    </tr>\n",
       "  </thead>\n",
       "  <tbody>\n",
       "    <tr>\n",
       "      <th>0</th>\n",
       "      <td>2</td>\n",
       "      <td>1</td>\n",
       "      <td>19</td>\n",
       "      <td>18</td>\n",
       "      <td>1</td>\n",
       "    </tr>\n",
       "    <tr>\n",
       "      <th>1</th>\n",
       "      <td>2</td>\n",
       "      <td>1</td>\n",
       "      <td>20</td>\n",
       "      <td>16</td>\n",
       "      <td>1</td>\n",
       "    </tr>\n",
       "    <tr>\n",
       "      <th>2</th>\n",
       "      <td>1</td>\n",
       "      <td>1</td>\n",
       "      <td>4</td>\n",
       "      <td>3</td>\n",
       "      <td>1</td>\n",
       "    </tr>\n",
       "    <tr>\n",
       "      <th>3</th>\n",
       "      <td>2</td>\n",
       "      <td>1</td>\n",
       "      <td>45</td>\n",
       "      <td>39</td>\n",
       "      <td>1</td>\n",
       "    </tr>\n",
       "    <tr>\n",
       "      <th>4</th>\n",
       "      <td>2</td>\n",
       "      <td>1</td>\n",
       "      <td>40</td>\n",
       "      <td>41</td>\n",
       "      <td>1</td>\n",
       "    </tr>\n",
       "    <tr>\n",
       "      <th>...</th>\n",
       "      <td>...</td>\n",
       "      <td>...</td>\n",
       "      <td>...</td>\n",
       "      <td>...</td>\n",
       "      <td>...</td>\n",
       "    </tr>\n",
       "    <tr>\n",
       "      <th>392</th>\n",
       "      <td>2</td>\n",
       "      <td>0</td>\n",
       "      <td>33</td>\n",
       "      <td>30</td>\n",
       "      <td>1</td>\n",
       "    </tr>\n",
       "    <tr>\n",
       "      <th>393</th>\n",
       "      <td>2</td>\n",
       "      <td>0</td>\n",
       "      <td>31</td>\n",
       "      <td>19</td>\n",
       "      <td>1</td>\n",
       "    </tr>\n",
       "    <tr>\n",
       "      <th>394</th>\n",
       "      <td>2</td>\n",
       "      <td>0</td>\n",
       "      <td>42</td>\n",
       "      <td>25</td>\n",
       "      <td>1</td>\n",
       "    </tr>\n",
       "    <tr>\n",
       "      <th>395</th>\n",
       "      <td>2</td>\n",
       "      <td>0</td>\n",
       "      <td>25</td>\n",
       "      <td>15</td>\n",
       "      <td>1</td>\n",
       "    </tr>\n",
       "    <tr>\n",
       "      <th>396</th>\n",
       "      <td>1</td>\n",
       "      <td>0</td>\n",
       "      <td>8</td>\n",
       "      <td>4</td>\n",
       "      <td>1</td>\n",
       "    </tr>\n",
       "  </tbody>\n",
       "</table>\n",
       "<p>397 rows × 5 columns</p>\n",
       "</div>"
      ],
      "text/plain": [
       "     rank  discipline  yrs.since.phd  yrs.service  sex\n",
       "0       2           1             19           18    1\n",
       "1       2           1             20           16    1\n",
       "2       1           1              4            3    1\n",
       "3       2           1             45           39    1\n",
       "4       2           1             40           41    1\n",
       "..    ...         ...            ...          ...  ...\n",
       "392     2           0             33           30    1\n",
       "393     2           0             31           19    1\n",
       "394     2           0             42           25    1\n",
       "395     2           0             25           15    1\n",
       "396     1           0              8            4    1\n",
       "\n",
       "[397 rows x 5 columns]"
      ]
     },
     "execution_count": 57,
     "metadata": {},
     "output_type": "execute_result"
    }
   ],
   "source": [
    "x"
   ]
  },
  {
   "cell_type": "code",
   "execution_count": 58,
   "id": "cbb6d5a3",
   "metadata": {},
   "outputs": [
    {
     "data": {
      "text/html": [
       "<div>\n",
       "<style scoped>\n",
       "    .dataframe tbody tr th:only-of-type {\n",
       "        vertical-align: middle;\n",
       "    }\n",
       "\n",
       "    .dataframe tbody tr th {\n",
       "        vertical-align: top;\n",
       "    }\n",
       "\n",
       "    .dataframe thead th {\n",
       "        text-align: right;\n",
       "    }\n",
       "</style>\n",
       "<table border=\"1\" class=\"dataframe\">\n",
       "  <thead>\n",
       "    <tr style=\"text-align: right;\">\n",
       "      <th></th>\n",
       "      <th>salary</th>\n",
       "    </tr>\n",
       "  </thead>\n",
       "  <tbody>\n",
       "    <tr>\n",
       "      <th>0</th>\n",
       "      <td>139750</td>\n",
       "    </tr>\n",
       "    <tr>\n",
       "      <th>1</th>\n",
       "      <td>173200</td>\n",
       "    </tr>\n",
       "    <tr>\n",
       "      <th>2</th>\n",
       "      <td>79750</td>\n",
       "    </tr>\n",
       "    <tr>\n",
       "      <th>3</th>\n",
       "      <td>115000</td>\n",
       "    </tr>\n",
       "    <tr>\n",
       "      <th>4</th>\n",
       "      <td>141500</td>\n",
       "    </tr>\n",
       "    <tr>\n",
       "      <th>...</th>\n",
       "      <td>...</td>\n",
       "    </tr>\n",
       "    <tr>\n",
       "      <th>392</th>\n",
       "      <td>103106</td>\n",
       "    </tr>\n",
       "    <tr>\n",
       "      <th>393</th>\n",
       "      <td>150564</td>\n",
       "    </tr>\n",
       "    <tr>\n",
       "      <th>394</th>\n",
       "      <td>101738</td>\n",
       "    </tr>\n",
       "    <tr>\n",
       "      <th>395</th>\n",
       "      <td>95329</td>\n",
       "    </tr>\n",
       "    <tr>\n",
       "      <th>396</th>\n",
       "      <td>81035</td>\n",
       "    </tr>\n",
       "  </tbody>\n",
       "</table>\n",
       "<p>397 rows × 1 columns</p>\n",
       "</div>"
      ],
      "text/plain": [
       "     salary\n",
       "0    139750\n",
       "1    173200\n",
       "2     79750\n",
       "3    115000\n",
       "4    141500\n",
       "..      ...\n",
       "392  103106\n",
       "393  150564\n",
       "394  101738\n",
       "395   95329\n",
       "396   81035\n",
       "\n",
       "[397 rows x 1 columns]"
      ]
     },
     "execution_count": 58,
     "metadata": {},
     "output_type": "execute_result"
    }
   ],
   "source": [
    "y"
   ]
  },
  {
   "cell_type": "markdown",
   "id": "a94965fc",
   "metadata": {},
   "source": [
    "# Transforming data to remove skewness"
   ]
  },
  {
   "cell_type": "code",
   "execution_count": 59,
   "id": "cdb440db",
   "metadata": {},
   "outputs": [],
   "source": [
    "from sklearn.preprocessing import power_transform\n",
    "x=power_transform(x,method='yeo-johnson')"
   ]
  },
  {
   "cell_type": "code",
   "execution_count": 60,
   "id": "a2b6f72b",
   "metadata": {},
   "outputs": [
    {
     "data": {
      "text/plain": [
       "numpy.ndarray"
      ]
     },
     "execution_count": 60,
     "metadata": {},
     "output_type": "execute_result"
    }
   ],
   "source": [
    "type(x)"
   ]
  },
  {
   "cell_type": "code",
   "execution_count": 61,
   "id": "ceb5dcf0",
   "metadata": {},
   "outputs": [
    {
     "data": {
      "text/plain": [
       "2"
      ]
     },
     "execution_count": 61,
     "metadata": {},
     "output_type": "execute_result"
    }
   ],
   "source": [
    "#x is 2 dimention array\n",
    "x.ndim"
   ]
  },
  {
   "cell_type": "code",
   "execution_count": 62,
   "id": "9c96ec16",
   "metadata": {},
   "outputs": [
    {
     "data": {
      "text/plain": [
       "0   -0.830409\n",
       "1   -0.177684\n",
       "2   -0.132757\n",
       "3   -0.122152\n",
       "4   -2.709958\n",
       "dtype: float64"
      ]
     },
     "execution_count": 62,
     "metadata": {},
     "output_type": "execute_result"
    }
   ],
   "source": [
    "xd=pd.DataFrame(data=x)\n",
    "xd.skew()"
   ]
  },
  {
   "cell_type": "code",
   "execution_count": 63,
   "id": "b8b1e95f",
   "metadata": {},
   "outputs": [
    {
     "data": {
      "text/plain": [
       "1.718188983198227e-16"
      ]
     },
     "execution_count": 63,
     "metadata": {},
     "output_type": "execute_result"
    }
   ],
   "source": [
    "#showing skeyness is near to zero\n",
    "x.mean()"
   ]
  },
  {
   "cell_type": "code",
   "execution_count": 64,
   "id": "0a971bc8",
   "metadata": {},
   "outputs": [],
   "source": [
    "import sklearn\n",
    "from sklearn.linear_model import LinearRegression\n",
    "from sklearn.metrics import mean_squared_error, mean_absolute_error  #error checking system\n",
    "from sklearn.model_selection import train_test_split"
   ]
  },
  {
   "cell_type": "code",
   "execution_count": 65,
   "id": "d7b236fe",
   "metadata": {},
   "outputs": [
    {
     "name": "stdout",
     "output_type": "stream",
     "text": [
      "best random state is 800   53\n"
     ]
    }
   ],
   "source": [
    "#Showing best value of random state\n",
    "from sklearn.metrics import r2_score\n",
    "lm=LinearRegression()\n",
    "rstate=0\n",
    "rscore=0\n",
    "\n",
    "for i in range(0,1000):\n",
    "    x_train,x_test,y_train,y_test=train_test_split(x,y,test_size=.33,random_state=i)\n",
    "    lm.fit(x_train,y_train)\n",
    "    pred=lm.predict(x_test)\n",
    "    if(round(r2_score(y_test,pred)*100)>rscore):\n",
    "        rstate=i\n",
    "        rscore=round(r2_score(y_test,pred)*100)\n",
    "\n",
    "print('best random state is',rstate,\" \",rscore)"
   ]
  },
  {
   "cell_type": "code",
   "execution_count": 66,
   "id": "8c4caebc",
   "metadata": {},
   "outputs": [],
   "source": [
    "#splitting the data in train and test variables\n",
    "x_train,x_test,y_train,y_test=train_test_split(x,y,test_size=.33,random_state=800)"
   ]
  },
  {
   "cell_type": "code",
   "execution_count": 67,
   "id": "44aa204d",
   "metadata": {},
   "outputs": [
    {
     "data": {
      "text/plain": [
       "(265, 5)"
      ]
     },
     "execution_count": 67,
     "metadata": {},
     "output_type": "execute_result"
    }
   ],
   "source": [
    "x_train.shape"
   ]
  },
  {
   "cell_type": "code",
   "execution_count": 68,
   "id": "a6820ed2",
   "metadata": {},
   "outputs": [
    {
     "data": {
      "text/plain": [
       "(265, 1)"
      ]
     },
     "execution_count": 68,
     "metadata": {},
     "output_type": "execute_result"
    }
   ],
   "source": [
    "y_train.shape"
   ]
  },
  {
   "cell_type": "code",
   "execution_count": 69,
   "id": "ebb894eb",
   "metadata": {},
   "outputs": [
    {
     "data": {
      "text/plain": [
       "(132, 5)"
      ]
     },
     "execution_count": 69,
     "metadata": {},
     "output_type": "execute_result"
    }
   ],
   "source": [
    "x_test.shape"
   ]
  },
  {
   "cell_type": "code",
   "execution_count": 70,
   "id": "a17aac99",
   "metadata": {},
   "outputs": [
    {
     "data": {
      "text/plain": [
       "(132, 1)"
      ]
     },
     "execution_count": 70,
     "metadata": {},
     "output_type": "execute_result"
    }
   ],
   "source": [
    "y_test.shape"
   ]
  },
  {
   "cell_type": "code",
   "execution_count": 71,
   "id": "7f82edb4",
   "metadata": {},
   "outputs": [
    {
     "data": {
      "text/html": [
       "<style>#sk-container-id-1 {color: black;background-color: white;}#sk-container-id-1 pre{padding: 0;}#sk-container-id-1 div.sk-toggleable {background-color: white;}#sk-container-id-1 label.sk-toggleable__label {cursor: pointer;display: block;width: 100%;margin-bottom: 0;padding: 0.3em;box-sizing: border-box;text-align: center;}#sk-container-id-1 label.sk-toggleable__label-arrow:before {content: \"▸\";float: left;margin-right: 0.25em;color: #696969;}#sk-container-id-1 label.sk-toggleable__label-arrow:hover:before {color: black;}#sk-container-id-1 div.sk-estimator:hover label.sk-toggleable__label-arrow:before {color: black;}#sk-container-id-1 div.sk-toggleable__content {max-height: 0;max-width: 0;overflow: hidden;text-align: left;background-color: #f0f8ff;}#sk-container-id-1 div.sk-toggleable__content pre {margin: 0.2em;color: black;border-radius: 0.25em;background-color: #f0f8ff;}#sk-container-id-1 input.sk-toggleable__control:checked~div.sk-toggleable__content {max-height: 200px;max-width: 100%;overflow: auto;}#sk-container-id-1 input.sk-toggleable__control:checked~label.sk-toggleable__label-arrow:before {content: \"▾\";}#sk-container-id-1 div.sk-estimator input.sk-toggleable__control:checked~label.sk-toggleable__label {background-color: #d4ebff;}#sk-container-id-1 div.sk-label input.sk-toggleable__control:checked~label.sk-toggleable__label {background-color: #d4ebff;}#sk-container-id-1 input.sk-hidden--visually {border: 0;clip: rect(1px 1px 1px 1px);clip: rect(1px, 1px, 1px, 1px);height: 1px;margin: -1px;overflow: hidden;padding: 0;position: absolute;width: 1px;}#sk-container-id-1 div.sk-estimator {font-family: monospace;background-color: #f0f8ff;border: 1px dotted black;border-radius: 0.25em;box-sizing: border-box;margin-bottom: 0.5em;}#sk-container-id-1 div.sk-estimator:hover {background-color: #d4ebff;}#sk-container-id-1 div.sk-parallel-item::after {content: \"\";width: 100%;border-bottom: 1px solid gray;flex-grow: 1;}#sk-container-id-1 div.sk-label:hover label.sk-toggleable__label {background-color: #d4ebff;}#sk-container-id-1 div.sk-serial::before {content: \"\";position: absolute;border-left: 1px solid gray;box-sizing: border-box;top: 0;bottom: 0;left: 50%;z-index: 0;}#sk-container-id-1 div.sk-serial {display: flex;flex-direction: column;align-items: center;background-color: white;padding-right: 0.2em;padding-left: 0.2em;position: relative;}#sk-container-id-1 div.sk-item {position: relative;z-index: 1;}#sk-container-id-1 div.sk-parallel {display: flex;align-items: stretch;justify-content: center;background-color: white;position: relative;}#sk-container-id-1 div.sk-item::before, #sk-container-id-1 div.sk-parallel-item::before {content: \"\";position: absolute;border-left: 1px solid gray;box-sizing: border-box;top: 0;bottom: 0;left: 50%;z-index: -1;}#sk-container-id-1 div.sk-parallel-item {display: flex;flex-direction: column;z-index: 1;position: relative;background-color: white;}#sk-container-id-1 div.sk-parallel-item:first-child::after {align-self: flex-end;width: 50%;}#sk-container-id-1 div.sk-parallel-item:last-child::after {align-self: flex-start;width: 50%;}#sk-container-id-1 div.sk-parallel-item:only-child::after {width: 0;}#sk-container-id-1 div.sk-dashed-wrapped {border: 1px dashed gray;margin: 0 0.4em 0.5em 0.4em;box-sizing: border-box;padding-bottom: 0.4em;background-color: white;}#sk-container-id-1 div.sk-label label {font-family: monospace;font-weight: bold;display: inline-block;line-height: 1.2em;}#sk-container-id-1 div.sk-label-container {text-align: center;}#sk-container-id-1 div.sk-container {/* jupyter's `normalize.less` sets `[hidden] { display: none; }` but bootstrap.min.css set `[hidden] { display: none !important; }` so we also need the `!important` here to be able to override the default hidden behavior on the sphinx rendered scikit-learn.org. See: https://github.com/scikit-learn/scikit-learn/issues/21755 */display: inline-block !important;position: relative;}#sk-container-id-1 div.sk-text-repr-fallback {display: none;}</style><div id=\"sk-container-id-1\" class=\"sk-top-container\"><div class=\"sk-text-repr-fallback\"><pre>LinearRegression()</pre><b>In a Jupyter environment, please rerun this cell to show the HTML representation or trust the notebook. <br />On GitHub, the HTML representation is unable to render, please try loading this page with nbviewer.org.</b></div><div class=\"sk-container\" hidden><div class=\"sk-item\"><div class=\"sk-estimator sk-toggleable\"><input class=\"sk-toggleable__control sk-hidden--visually\" id=\"sk-estimator-id-1\" type=\"checkbox\" checked><label for=\"sk-estimator-id-1\" class=\"sk-toggleable__label sk-toggleable__label-arrow\">LinearRegression</label><div class=\"sk-toggleable__content\"><pre>LinearRegression()</pre></div></div></div></div></div>"
      ],
      "text/plain": [
       "LinearRegression()"
      ]
     },
     "execution_count": 71,
     "metadata": {},
     "output_type": "execute_result"
    }
   ],
   "source": [
    "#instanciating LinearRegression \n",
    "lm=LinearRegression()\n",
    "#Training the Machine\n",
    "lm.fit(x_train,y_train)"
   ]
  },
  {
   "cell_type": "code",
   "execution_count": 72,
   "id": "307eeaf2",
   "metadata": {},
   "outputs": [
    {
     "data": {
      "text/plain": [
       "array([[12247.08332777,  6599.02599275, 11803.23952068, -4863.40907007,\n",
       "         1316.18227783]])"
      ]
     },
     "execution_count": 72,
     "metadata": {},
     "output_type": "execute_result"
    }
   ],
   "source": [
    "lm.coef_"
   ]
  },
  {
   "cell_type": "code",
   "execution_count": 73,
   "id": "c07103e4",
   "metadata": {},
   "outputs": [
    {
     "data": {
      "text/plain": [
       "array([113127.36001133])"
      ]
     },
     "execution_count": 73,
     "metadata": {},
     "output_type": "execute_result"
    }
   ],
   "source": [
    "lm.intercept_"
   ]
  },
  {
   "cell_type": "code",
   "execution_count": 74,
   "id": "1ec320f5",
   "metadata": {},
   "outputs": [
    {
     "data": {
      "text/plain": [
       "0.3573203895749777"
      ]
     },
     "execution_count": 74,
     "metadata": {},
     "output_type": "execute_result"
    }
   ],
   "source": [
    "#showing the accuracy\n",
    "lm.score(x_train,y_train)"
   ]
  },
  {
   "cell_type": "code",
   "execution_count": 75,
   "id": "d324710e",
   "metadata": {},
   "outputs": [],
   "source": [
    "pred=lm.predict(x_test)"
   ]
  },
  {
   "cell_type": "code",
   "execution_count": 76,
   "id": "e0a8cc01",
   "metadata": {},
   "outputs": [
    {
     "data": {
      "text/plain": [
       "array([[ 82297.76491031],\n",
       "       [121108.84844171],\n",
       "       [101166.46844681],\n",
       "       [119385.87567771],\n",
       "       [131465.26172461],\n",
       "       [ 94071.85964324],\n",
       "       [ 79590.23009622],\n",
       "       [118670.87757183],\n",
       "       [121845.00959246],\n",
       "       [ 76538.57336816],\n",
       "       [124165.35882264],\n",
       "       [ 86450.80961081],\n",
       "       [123776.53334203],\n",
       "       [121612.51519922],\n",
       "       [117411.97879127],\n",
       "       [ 92473.11174298],\n",
       "       [ 89863.97511224],\n",
       "       [130362.87900538],\n",
       "       [125168.51509086],\n",
       "       [127380.02224395],\n",
       "       [139889.12619651],\n",
       "       [130276.41926415],\n",
       "       [ 92481.2808938 ],\n",
       "       [130331.81422137],\n",
       "       [ 77283.3298881 ],\n",
       "       [122684.73228801],\n",
       "       [111855.40771245],\n",
       "       [ 96133.86459908],\n",
       "       [128415.58002206],\n",
       "       [124053.40293298],\n",
       "       [131104.8197403 ],\n",
       "       [133409.65570627],\n",
       "       [116818.60312234],\n",
       "       [111369.78096651],\n",
       "       [ 93281.54823777],\n",
       "       [ 82644.65228561],\n",
       "       [ 82096.13649262],\n",
       "       [ 93281.54823777],\n",
       "       [ 85052.32648163],\n",
       "       [ 75936.74677649],\n",
       "       [ 90207.71138803],\n",
       "       [130054.52210136],\n",
       "       [134611.98079956],\n",
       "       [121825.53620132],\n",
       "       [113444.87609665],\n",
       "       [ 81629.04837406],\n",
       "       [122337.3685426 ],\n",
       "       [ 95514.24600445],\n",
       "       [ 90017.88679692],\n",
       "       [ 92481.2808938 ],\n",
       "       [127380.02224395],\n",
       "       [122057.70020552],\n",
       "       [ 91002.91238447],\n",
       "       [122071.24298983],\n",
       "       [ 98699.67234312],\n",
       "       [123547.23877165],\n",
       "       [126493.11161671],\n",
       "       [115875.4195727 ],\n",
       "       [ 96970.5942317 ],\n",
       "       [130911.57257314],\n",
       "       [130613.86354814],\n",
       "       [ 97296.82615364],\n",
       "       [119006.33997104],\n",
       "       [123002.36766955],\n",
       "       [136580.39071173],\n",
       "       [122546.37446576],\n",
       "       [ 88715.72800196],\n",
       "       [ 84745.19277318],\n",
       "       [138363.91100565],\n",
       "       [139249.75948364],\n",
       "       [109721.46559961],\n",
       "       [121047.90759764],\n",
       "       [119694.73432872],\n",
       "       [126254.33478826],\n",
       "       [121362.33761638],\n",
       "       [116184.97810023],\n",
       "       [126956.62493781],\n",
       "       [133386.76835874],\n",
       "       [126822.85656026],\n",
       "       [ 83771.44509314],\n",
       "       [ 96805.92623275],\n",
       "       [123298.32746356],\n",
       "       [ 94878.69155724],\n",
       "       [117410.60719611],\n",
       "       [127319.76087217],\n",
       "       [ 85052.32648163],\n",
       "       [128705.15712624],\n",
       "       [ 81753.11126132],\n",
       "       [ 93422.34883364],\n",
       "       [106380.949069  ],\n",
       "       [126429.85125122],\n",
       "       [124442.8172812 ],\n",
       "       [ 97324.71511923],\n",
       "       [131840.3833406 ],\n",
       "       [100473.22467231],\n",
       "       [129520.85814095],\n",
       "       [129250.88235119],\n",
       "       [137943.39098367],\n",
       "       [ 88653.87409065],\n",
       "       [122082.81586375],\n",
       "       [124994.86475846],\n",
       "       [110660.04017965],\n",
       "       [ 76614.33192906],\n",
       "       [129996.03207443],\n",
       "       [113501.53851365],\n",
       "       [ 92839.87327939],\n",
       "       [133038.65200026],\n",
       "       [110333.69567008],\n",
       "       [119354.39088815],\n",
       "       [126961.99521248],\n",
       "       [111141.20403379],\n",
       "       [118370.51836217],\n",
       "       [122421.17070845],\n",
       "       [127319.76087217],\n",
       "       [131304.34083085],\n",
       "       [130148.31110295],\n",
       "       [123235.80644807],\n",
       "       [117854.28524465],\n",
       "       [ 95413.5673294 ],\n",
       "       [123151.20865787],\n",
       "       [ 75557.08411349],\n",
       "       [124903.90494338],\n",
       "       [128985.05544008],\n",
       "       [140914.73516924],\n",
       "       [125332.30904244],\n",
       "       [124159.10483846],\n",
       "       [115228.46946287],\n",
       "       [ 81788.48353746],\n",
       "       [123696.45783366],\n",
       "       [ 80358.88923037],\n",
       "       [138363.91100565],\n",
       "       [124156.51719884]])"
      ]
     },
     "execution_count": 76,
     "metadata": {},
     "output_type": "execute_result"
    }
   ],
   "source": [
    "#printing predicted values\n",
    "pred"
   ]
  },
  {
   "cell_type": "code",
   "execution_count": 77,
   "id": "42ec612a",
   "metadata": {},
   "outputs": [
    {
     "name": "stdout",
     "output_type": "stream",
     "text": [
      "Error :\n",
      "Mean Absolute Error =  15737.574172156983\n",
      "mean squared error =  393012341.272799\n",
      "root mean squared error =  19824.538866586507\n"
     ]
    }
   ],
   "source": [
    "#Printing Error value\n",
    "print(\"Error :\")\n",
    "\n",
    "print(\"Mean Absolute Error = \",mean_absolute_error(y_test,pred))\n",
    "print(\"mean squared error = \",mean_squared_error(y_test,pred))\n",
    "\n",
    "print(\"root mean squared error = \",np.sqrt(mean_squared_error(y_test,pred)))"
   ]
  },
  {
   "cell_type": "code",
   "execution_count": 78,
   "id": "58f3be77",
   "metadata": {},
   "outputs": [
    {
     "name": "stdout",
     "output_type": "stream",
     "text": [
      "53.052024682771574  %\n"
     ]
    }
   ],
   "source": [
    "from sklearn.metrics import r2_score\n",
    "print(r2_score(y_test,pred)*100,\" %\")          "
   ]
  },
  {
   "cell_type": "code",
   "execution_count": 79,
   "id": "b983320c",
   "metadata": {},
   "outputs": [
    {
     "data": {
      "text/plain": [
       "array([[307939.82299099]])"
      ]
     },
     "execution_count": 79,
     "metadata": {},
     "output_type": "execute_result"
    }
   ],
   "source": [
    "lm.predict([[2,1,22,20,1]])"
   ]
  },
  {
   "cell_type": "code",
   "execution_count": 80,
   "id": "245bac6a",
   "metadata": {},
   "outputs": [],
   "source": [
    "#saving the model\n",
    "import pickle\n",
    "outfile=open('mylr.obj','wb')\n",
    "pickle.dump(lm,outfile)\n",
    "outfile.close()"
   ]
  },
  {
   "cell_type": "code",
   "execution_count": 81,
   "id": "44805f14",
   "metadata": {},
   "outputs": [],
   "source": [
    "#loading the model\n",
    "infile=open('mylr.obj','rb')\n",
    "new_lm=pickle.load(infile)\n",
    "infile.close()"
   ]
  },
  {
   "cell_type": "code",
   "execution_count": 82,
   "id": "4b9b54c1",
   "metadata": {},
   "outputs": [
    {
     "data": {
      "text/plain": [
       "array([[307939.82299099]])"
      ]
     },
     "execution_count": 82,
     "metadata": {},
     "output_type": "execute_result"
    }
   ],
   "source": [
    "#using the model\n",
    "new_lm.predict([[2,1,22,20,1]])"
   ]
  }
 ],
 "metadata": {
  "kernelspec": {
   "display_name": "Python 3 (ipykernel)",
   "language": "python",
   "name": "python3"
  },
  "language_info": {
   "codemirror_mode": {
    "name": "ipython",
    "version": 3
   },
   "file_extension": ".py",
   "mimetype": "text/x-python",
   "name": "python",
   "nbconvert_exporter": "python",
   "pygments_lexer": "ipython3",
   "version": "3.9.7"
  }
 },
 "nbformat": 4,
 "nbformat_minor": 5
}
